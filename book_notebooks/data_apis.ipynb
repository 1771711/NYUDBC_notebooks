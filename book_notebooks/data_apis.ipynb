{
 "cells": [
  {
   "cell_type": "markdown",
   "metadata": {},
   "source": [
    "## Data Input via APIs\n",
    "\n",
    "This is about using an api \"Application program interface\" ...basic idea, allows\n",
    "direct access to some database or parts of it without having do download everything\n",
    "\n",
    "Documentation is here...\n",
    "\n",
    "https://pandas-datareader.readthedocs.io/en/latest/index.html\n",
    "\n",
    "This documentation is good too:\n",
    "\n",
    "http://pandas-datareader.readthedocs.io/en/latest/remote_data.html"
   ]
  },
  {
   "cell_type": "code",
   "execution_count": null,
   "metadata": {},
   "outputs": [],
   "source": [
    "import os\n",
    "\n",
    "import pandas as pd\n",
    "\n",
    "# In order to use the pandas_datareader, we have the following lines of code, hard to explain.\n",
    "# New version for pandas. In the past, we used pandasdatareader, but might be not working anymore\n",
    "pd.core.common.is_list_like = pd.api.types.is_list_like\n",
    "from pandas_datareader import data, wb # This will import the data reader\n",
    "import matplotlib.pyplot as plt\n",
    "import datetime \n",
    "\n",
    "%matplotlib inline "
   ]
  },
  {
   "cell_type": "code",
   "execution_count": null,
   "metadata": {},
   "outputs": [],
   "source": [
    "from pandas_datareader import data, wb\n"
   ]
  },
  {
   "cell_type": "code",
   "execution_count": null,
   "metadata": {},
   "outputs": [],
   "source": [
    "#start = datetime.datetime(2005,1,1) # simple funcitonality of the datatime package\n",
    "                                    # just specify the year, month, date and it returns\n",
    "                                    # and object that the data reader will interpert\n",
    "\n",
    "\n",
    "codes = [\"GDPC1\", \"PCEC96\"] # here are the codes, remember this from EGB?\n",
    "                            # Honestly, this is the hardest part with APIs figuring\n",
    "                            # out the codes to ask of the API\n",
    "\n",
    "fred = data.DataReader(codes,\"fred\",2005)  # Then for fred, you hand it the codes\n",
    "                                            # Tell it you want to ask from FRED\n",
    "                                            # then tell it the start date"
   ]
  },
  {
   "cell_type": "code",
   "execution_count": null,
   "metadata": {},
   "outputs": [],
   "source": [
    "fred.head()"
   ]
  },
  {
   "cell_type": "code",
   "execution_count": null,
   "metadata": {},
   "outputs": [],
   "source": [
    "fred.dropna(inplace = True)"
   ]
  },
  {
   "cell_type": "code",
   "execution_count": null,
   "metadata": {},
   "outputs": [],
   "source": [
    "fred.pct_change().plot()\n"
   ]
  },
  {
   "cell_type": "markdown",
   "metadata": {},
   "source": [
    "**Excercise** Can you find the unemployment rate for the US from FRED. Use the data reader. And create a plot of unemployment from the 2005 on ward. Challenge, can you create a histogram of unemployment rates?"
   ]
  },
  {
   "cell_type": "code",
   "execution_count": null,
   "metadata": {},
   "outputs": [],
   "source": [
    "start = datetime.datetime(2018,1,1)\n",
    "end = datetime.datetime(2018,2,28)"
   ]
  },
  {
   "cell_type": "code",
   "execution_count": null,
   "metadata": {
    "scrolled": false
   },
   "outputs": [],
   "source": [
    "ticker = 'AMZN'\n",
    "stkqt = data.DataReader(ticker, 'quandl', start, end)\n",
    "#import pandas_datareader\n",
    "#stkqt =pandas_datareader.quandl.QuandlReader(ticker, start, end)"
   ]
  },
  {
   "cell_type": "code",
   "execution_count": null,
   "metadata": {},
   "outputs": [],
   "source": [
    "stkqt.head()"
   ]
  },
  {
   "cell_type": "code",
   "execution_count": null,
   "metadata": {},
   "outputs": [],
   "source": [
    "# Updating the codes to reflect codes changes\n",
    "bitcoin = data.DataReader(\"BITSTAMP/USD\", 'quandl', start, end)\n",
    "\n",
    "bitcoin[\"Last\"].plot()"
   ]
  },
  {
   "cell_type": "code",
   "execution_count": null,
   "metadata": {},
   "outputs": [],
   "source": [
    "bitcoin = data.DataReader(\"MSFT.US\", 'quandl', start, end)"
   ]
  },
  {
   "cell_type": "code",
   "execution_count": null,
   "metadata": {},
   "outputs": [],
   "source": [
    "bitcoin.shape"
   ]
  },
  {
   "cell_type": "markdown",
   "metadata": {},
   "source": [
    "**Exercise** Grab luluemon's data. Plot the closing value and the volume since the begining of the year."
   ]
  },
  {
   "cell_type": "code",
   "execution_count": null,
   "metadata": {},
   "outputs": [],
   "source": [
    "\n",
    "# We need to delete the google data reader part, since now google did not allow machine to read\n",
    "# the data directly.\n",
    "\n",
    "#https://stackoverflow.com/questions/48519573/datareader-unable-to-read-url\n",
    "\n",
    "lulu = data.DataReader(\"AAPL\", \"google\", start, end)"
   ]
  },
  {
   "cell_type": "code",
   "execution_count": null,
   "metadata": {},
   "outputs": [],
   "source": [
    "lulu = lulu.to_frame()"
   ]
  },
  {
   "cell_type": "code",
   "execution_count": null,
   "metadata": {},
   "outputs": [],
   "source": [
    "lulu.head()"
   ]
  },
  {
   "cell_type": "code",
   "execution_count": null,
   "metadata": {},
   "outputs": [],
   "source": []
  }
 ],
 "metadata": {
  "anaconda-cloud": {},
  "hide_input": false,
  "kernelspec": {
   "display_name": "Python 3",
   "language": "python",
   "name": "python3"
  },
  "language_info": {
   "codemirror_mode": {
    "name": "ipython",
    "version": 3
   },
   "file_extension": ".py",
   "mimetype": "text/x-python",
   "name": "python",
   "nbconvert_exporter": "python",
   "pygments_lexer": "ipython3",
   "version": "3.6.5"
  }
 },
 "nbformat": 4,
 "nbformat_minor": 2
}
