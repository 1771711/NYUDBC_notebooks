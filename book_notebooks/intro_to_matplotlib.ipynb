{
 "cells": [
  {
   "cell_type": "markdown",
   "metadata": {},
   "source": [
    "# Intro to Matplotlib\n",
    "\n",
    "\n",
    "####  Review and Outline\n",
    "\n",
    "Great Work! We have made it this far...we know a few important packages in python, e.g., `pandas` and `numpy`, and how to use them to do numeric computings.   \n",
    "\n",
    "Where are we going to know...we will get into the shining part for every data report: **data visualization**, as the saying goes, \"a picture is worth a thousand words\". Can you imagine an presentation or report regarding data analysis without graphs? Probably not often.\n",
    "\n",
    "We will start with basic concepts and techinical components in graphs. Then I organize the majority of this lecture around the question **How does GDP and it's expenditure componenets co-move?** I'll set it up like a mini-project...we will practice previous skills to downlad and manipulate the data, then we will learn about ploting the data (and doing so in a way to explore how GDP and its expenditure componenets move). \n",
    "\n",
    "\n",
    "[This notebook largely follows the discussion in the Book.](https://nyudatabootcamp.gitbook.io/thebook/graphs1)\n",
    "\n",
    "#### Python\n",
    "\n",
    "In this notebook, we will learn how to (i) generate the `fig` and `ax` of a figure and then (ii) use the methods associated with thoes objects to manipulate the properties of the figure to make it informative and nice looking. \n",
    "\n",
    "**Buzzwords.** Data visualization, time series, cross sectional data\n"
   ]
  },
  {
   "cell_type": "code",
   "execution_count": 2,
   "metadata": {},
   "outputs": [],
   "source": [
    "# Loading the packages\n",
    "\n",
    "import pandas as pd                 # Our pandas package\n",
    "\n",
    "# In order to use the pandas_datareader, we have the following lines of code, hard to explain.\n",
    "# New version for pandas. In the past, we used pandasdatareader, but might be not working anymore\n",
    "pd.core.common.is_list_like = pd.api.types.is_list_like\n",
    "\n",
    "from pandas_datareader import data  # This is will give us access to FRED\n",
    "import datetime as dt               # This will get us the datatime package\n",
    "import matplotlib.pyplot as plt     # The new package we are learning about Matplotlib\n",
    "                                    # pyplot is just one module of many in this library\n",
    "\n",
    "%matplotlib inline \n",
    "# This line tells jupyter to plot the graphs within the notebook"
   ]
  },
  {
   "cell_type": "markdown",
   "metadata": {},
   "source": [
    "---\n",
    "## Plotting Concepts"
   ]
  },
  {
   "cell_type": "markdown",
   "metadata": {},
   "source": [
    "### Data visualisation"
   ]
  },
  {
   "cell_type": "markdown",
   "metadata": {},
   "source": [
    "Plot or data visualisationis an abstraction/aggregation to represent data, which can be used to communicate information, sense making and thus pass the values of data.  \n",
    "\n",
    "So why do call it as an **abstraction**? For almost every graph, there is a loss of data (often not so important ones in current setting), because it is impossible for human beings to absorb all the numbers, strings at once. We often use different physical attributes of vision (length, position, size, shape, and color, etc) to make the transformation of data. \n",
    "\n",
    "Thus sometimes, the instentions of visualisation designers may directly have impacts on what we perceive/understand about the data. Also, sometimes even a design decision can motivate omission of important data. So we will keep this in mind either from the perspective of a reader or designer. Please see the following intuitive example.   \n"
   ]
  },
  {
   "cell_type": "code",
   "execution_count": null,
   "metadata": {},
   "outputs": [],
   "source": [
    "# prepare the example data\n",
    "\n",
    "\n",
    "# plot the data\n",
    "\n"
   ]
  },
  {
   "cell_type": "markdown",
   "metadata": {},
   "source": [
    "### Time series vs Cross sectional"
   ]
  },
  {
   "cell_type": "markdown",
   "metadata": {},
   "source": [
    "A **time series** is a series of data points indexed (or listed or graphed) in time order. Most commonly, a time series is a sequence taken at successive equally spaced points in time. The data typically has 3 things in common:\n",
    "\n",
    "* Arrival is almost always recorded as a new entry\n",
    "* The data typically arrives in time order\n",
    "* Time is a primary axis (time-intervals can be either regular or irregular)\n",
    "\n",
    "As we'll see later, time series are very frequently plotted via line charts. A typical example of time series data is as follow. "
   ]
  },
  {
   "cell_type": "code",
   "execution_count": 4,
   "metadata": {},
   "outputs": [
    {
     "name": "stdout",
     "output_type": "stream",
     "text": [
      "          gdp      pce\n",
      "2003  13271.1   8867.6\n",
      "2004  13773.5   9208.2\n",
      "2005  14234.2   9531.8\n",
      "2006  14613.8   9821.7\n",
      "2007  14873.7  10041.6\n",
      "2008  14830.4  10007.2\n",
      "2009  14418.7   9847.0\n",
      "2010  14783.8  10036.3\n",
      "2011  15020.6  10263.5\n",
      "2012  15369.2  10449.7\n",
      "2013  15710.3  10699.7\n"
     ]
    }
   ],
   "source": [
    "gdp  = [13271.1, 13773.5, 14234.2, 14613.8, 14873.7, 14830.4, 14418.7,\n",
    "        14783.8, 15020.6, 15369.2, 15710.3]\n",
    "pce  = [8867.6, 9208.2, 9531.8, 9821.7, 10041.6, 10007.2, 9847.0, 10036.3,\n",
    "        10263.5, 10449.7, 10699.7]\n",
    "year = list(range(2003,2014))        # use range for years 2003-2013\n",
    "\n",
    "# Note that we set the index\n",
    "us = pd.DataFrame({'gdp': gdp, 'pce': pce}, index=year)\n",
    "print(us)"
   ]
  },
  {
   "cell_type": "markdown",
   "metadata": {},
   "source": [
    "While **cross sectional** data is observations that come from different individuals or groups at a single point in time. There it differs from time series data, which the objects are observations varying in time but from a single individuals or groups.\n",
    "\n",
    "A typical example of cross sectional data is as follow. We will usually use bars graphs to show the relationships among different groups."
   ]
  },
  {
   "cell_type": "code",
   "execution_count": null,
   "metadata": {},
   "outputs": [],
   "source": [
    "code    = ['USA', 'FRA', 'JPN', 'CHN', 'IND', 'BRA', 'MEX']\n",
    "country = ['United States', 'France', 'Japan', 'China', 'India',\n",
    "             'Brazil', 'Mexico']\n",
    "gdppc   = [53.1, 36.9, 36.3, 11.9, 5.4, 15.0, 16.5]\n",
    "\n",
    "wbdf = pd.DataFrame({'gdppc': gdppc, 'country': country}, index=code)\n",
    "\n",
    "print(wbdf)"
   ]
  },
  {
   "cell_type": "markdown",
   "metadata": {},
   "source": [
    "### Univariate and Multivariate analysis "
   ]
  },
  {
   "cell_type": "markdown",
   "metadata": {},
   "source": [
    "**Univariate analysis** is the simplest form of data analysis where the data being analyzed contains only one variable. Since it's a single variable, it doesn’t deal with causes or relationships. We can usually get some insights regarding the statistic features of the data, such as empirical distributions, mean, and skewness, etc. The major purpose univariate bivariate analysis is to explain.\n",
    "\n",
    "In practice, we usually perform univariate analysis as a stepping stone for futher analysis.\n"
   ]
  },
  {
   "cell_type": "markdown",
   "metadata": {},
   "source": [
    "**Multivariate analysis** deals with more than one variables. It deals with causes or relationships. The major purpose multivariate bivariate analysis is to explain.\n",
    "\n",
    "There are many ways to play with mltivariates depending on your goals.  "
   ]
  },
  {
   "cell_type": "markdown",
   "metadata": {},
   "source": [
    "---\n",
    "## Matplotlib Concepts"
   ]
  },
  {
   "cell_type": "markdown",
   "metadata": {},
   "source": []
  },
  {
   "cell_type": "code",
   "execution_count": null,
   "metadata": {},
   "outputs": [],
   "source": []
  },
  {
   "cell_type": "code",
   "execution_count": null,
   "metadata": {},
   "outputs": [],
   "source": []
  },
  {
   "cell_type": "code",
   "execution_count": null,
   "metadata": {},
   "outputs": [],
   "source": []
  },
  {
   "cell_type": "markdown",
   "metadata": {},
   "source": [
    "---\n",
    "### Two Approaches to Graphics in Matplotlib\n",
    "\n",
    "Back to  graphics.  Python's leading graphics package is **Matplotlib**.  Matplotlib can be used in a number of different ways:\n",
    "\n",
    "* Approach #1:  Apply plot methods to dataframes.\n",
    "* Approach #2:  Create figure objects and apply methods to them.\n",
    "\n",
    "They call on similar functionality, but use different syntax to get it.\n",
    "\n"
   ]
  },
  {
   "cell_type": "markdown",
   "metadata": {},
   "source": [
    "####  Approach #1:  Apply plot methods to dataframes\n"
   ]
  },
  {
   "cell_type": "code",
   "execution_count": null,
   "metadata": {},
   "outputs": [],
   "source": []
  },
  {
   "cell_type": "code",
   "execution_count": null,
   "metadata": {},
   "outputs": [],
   "source": []
  },
  {
   "cell_type": "code",
   "execution_count": null,
   "metadata": {},
   "outputs": [],
   "source": []
  },
  {
   "cell_type": "markdown",
   "metadata": {},
   "source": [
    "#### Approach #2:  Create figure objects and apply methods\n"
   ]
  },
  {
   "cell_type": "code",
   "execution_count": null,
   "metadata": {},
   "outputs": [],
   "source": []
  },
  {
   "cell_type": "code",
   "execution_count": null,
   "metadata": {},
   "outputs": [],
   "source": []
  },
  {
   "cell_type": "code",
   "execution_count": null,
   "metadata": {},
   "outputs": [],
   "source": []
  },
  {
   "cell_type": "markdown",
   "metadata": {},
   "source": [
    "---\n",
    "## Bells & Whistles"
   ]
  },
  {
   "cell_type": "markdown",
   "metadata": {},
   "source": []
  },
  {
   "cell_type": "markdown",
   "metadata": {},
   "source": [
    "### Graph Types"
   ]
  },
  {
   "cell_type": "code",
   "execution_count": null,
   "metadata": {},
   "outputs": [],
   "source": []
  },
  {
   "cell_type": "code",
   "execution_count": null,
   "metadata": {},
   "outputs": [],
   "source": []
  },
  {
   "cell_type": "code",
   "execution_count": null,
   "metadata": {},
   "outputs": [],
   "source": []
  },
  {
   "cell_type": "markdown",
   "metadata": {},
   "source": [
    "### Graph Options"
   ]
  },
  {
   "cell_type": "code",
   "execution_count": null,
   "metadata": {},
   "outputs": [],
   "source": []
  },
  {
   "cell_type": "markdown",
   "metadata": {},
   "source": [
    "---\n",
    "## Summary"
   ]
  },
  {
   "cell_type": "markdown",
   "metadata": {},
   "source": []
  },
  {
   "cell_type": "code",
   "execution_count": null,
   "metadata": {},
   "outputs": [],
   "source": []
  },
  {
   "cell_type": "code",
   "execution_count": null,
   "metadata": {},
   "outputs": [],
   "source": []
  }
 ],
 "metadata": {
  "kernelspec": {
   "display_name": "Python 3",
   "language": "python",
   "name": "python3"
  },
  "language_info": {
   "codemirror_mode": {
    "name": "ipython",
    "version": 3
   },
   "file_extension": ".py",
   "mimetype": "text/x-python",
   "name": "python",
   "nbconvert_exporter": "python",
   "pygments_lexer": "ipython3",
   "version": "3.5.5"
  }
 },
 "nbformat": 4,
 "nbformat_minor": 2
}
