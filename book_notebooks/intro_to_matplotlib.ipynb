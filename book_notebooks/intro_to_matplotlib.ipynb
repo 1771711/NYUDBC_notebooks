{
 "cells": [
  {
   "cell_type": "markdown",
   "metadata": {},
   "source": [
    "# Intro to Matplotlib\n",
    "\n",
    "\n",
    "####  Review and Outline\n",
    "\n",
    "Great Work! We have made it this far...we know a few important packages in python, e.g., `pandas` and `numpy`, and how to use them to do numeric computings.   \n",
    "\n",
    "Where are we going to know...we will get into the shining part for every data report: **data visualization**, as the saying goes, \"a picture is worth a thousand words\". Can you imagine an presentation or report regarding data analysis without graphs? Probably not often.\n",
    "\n",
    "We will start with basic concepts and techinical components in graphs. Then we will talk about different types of graphs to choose from.\n",
    "\n",
    "In the end, we will focus on the question **How does GDP and it's expenditure componenets co-move?** I'll set it up like a mini-project for data visualization and gradually using advanced graphs options to make the graph look better. \n",
    "\n",
    "\n",
    "[This notebook largely follows the discussion in the Book.](https://nyudatabootcamp.gitbook.io/thebook/graphs1)\n",
    "\n",
    "#### Python\n",
    "\n",
    "In this notebook, we will learn how to (i) generate the `fig` and `ax` of a figure and then (ii) use the methods associated with thoes objects to manipulate the properties of the figure to make it informative and nice looking. \n",
    "\n",
    "**Buzzwords.** Data visualization, time series, cross sectional data\n"
   ]
  },
  {
   "cell_type": "code",
   "execution_count": 2,
   "metadata": {},
   "outputs": [],
   "source": [
    "# Loading the packages\n",
    "\n",
    "import pandas as pd                 # Our pandas package\n",
    "\n",
    "# In order to use the pandas_datareader, we have the following lines of code, hard to explain.\n",
    "# New version for pandas. In the past, we used pandasdatareader, but might be not working anymore\n",
    "pd.core.common.is_list_like = pd.api.types.is_list_like\n",
    "\n",
    "from pandas_datareader import data  # This is will give us access to FRED\n",
    "import datetime as dt               # This will get us the datatime package\n",
    "import matplotlib.pyplot as plt     # The new package we are learning about Matplotlib\n",
    "                                    # pyplot is just one module of many in this library\n",
    "\n",
    "%matplotlib inline \n",
    "# This line tells jupyter to plot the graphs within the notebook"
   ]
  },
  {
   "cell_type": "markdown",
   "metadata": {},
   "source": [
    "---\n",
    "## Plotting Concepts"
   ]
  },
  {
   "cell_type": "markdown",
   "metadata": {},
   "source": [
    "### Data visualisation"
   ]
  },
  {
   "cell_type": "markdown",
   "metadata": {},
   "source": [
    "Plot or data visualisationis an abstraction/aggregation to represent data, which can be used to communicate information, sense making and thus pass the values of data.  \n",
    "\n",
    "So why do call it as an **abstraction**? For almost every graph, there is a loss of data (often not so important ones in current setting), because it is impossible for human beings to absorb all the numbers, strings at once. We often use different physical attributes of vision (length, position, size, shape, and color, etc) to make the transformation of data. \n",
    "\n",
    "Thus sometimes, the instentions of visualisation designers may directly have impacts on what we perceive/understand about the data. Also, sometimes even a design decision can motivate the omission of important data. So we will keep this in mind either from the perspective of a reader or designer. Please see the following intuitive example.   \n"
   ]
  },
  {
   "cell_type": "code",
   "execution_count": 14,
   "metadata": {},
   "outputs": [
    {
     "data": {
      "text/html": [
       "<div>\n",
       "<style scoped>\n",
       "    .dataframe tbody tr th:only-of-type {\n",
       "        vertical-align: middle;\n",
       "    }\n",
       "\n",
       "    .dataframe tbody tr th {\n",
       "        vertical-align: top;\n",
       "    }\n",
       "\n",
       "    .dataframe thead th {\n",
       "        text-align: right;\n",
       "    }\n",
       "</style>\n",
       "<table border=\"1\" class=\"dataframe\">\n",
       "  <thead>\n",
       "    <tr style=\"text-align: right;\">\n",
       "      <th></th>\n",
       "      <th>rm</th>\n",
       "      <th>rf</th>\n",
       "    </tr>\n",
       "    <tr>\n",
       "      <th>Date</th>\n",
       "      <th></th>\n",
       "      <th></th>\n",
       "    </tr>\n",
       "  </thead>\n",
       "  <tbody>\n",
       "    <tr>\n",
       "      <th>2010</th>\n",
       "      <td>17.49</td>\n",
       "      <td>0.12</td>\n",
       "    </tr>\n",
       "    <tr>\n",
       "      <th>2011</th>\n",
       "      <td>0.48</td>\n",
       "      <td>0.04</td>\n",
       "    </tr>\n",
       "    <tr>\n",
       "      <th>2012</th>\n",
       "      <td>16.34</td>\n",
       "      <td>0.06</td>\n",
       "    </tr>\n",
       "    <tr>\n",
       "      <th>2013</th>\n",
       "      <td>35.22</td>\n",
       "      <td>0.02</td>\n",
       "    </tr>\n",
       "    <tr>\n",
       "      <th>2014</th>\n",
       "      <td>11.72</td>\n",
       "      <td>0.02</td>\n",
       "    </tr>\n",
       "  </tbody>\n",
       "</table>\n",
       "</div>"
      ],
      "text/plain": [
       "         rm    rf\n",
       "Date             \n",
       "2010  17.49  0.12\n",
       "2011   0.48  0.04\n",
       "2012  16.34  0.06\n",
       "2013  35.22  0.02\n",
       "2014  11.72  0.02"
      ]
     },
     "execution_count": 14,
     "metadata": {},
     "output_type": "execute_result"
    }
   ],
   "source": [
    "# plot the data from *Fama-French returns*.\n",
    "ff = data.DataReader('F-F_Research_Data_factors', 'famafrench')[1]\n",
    "ff.columns = ['xsm', 'smb', 'hml', 'rf']\n",
    "ff['rm'] = ff['xsm'] + ff['rf']\n",
    "ff = ff[['rm', 'rf']]               # extract rm (market) and rf (riskfree)\n",
    "ff.head(5)\n"
   ]
  },
  {
   "cell_type": "code",
   "execution_count": 15,
   "metadata": {},
   "outputs": [
    {
     "data": {
      "text/plain": [
       "<matplotlib.axes._subplots.AxesSubplot at 0x11835de48>"
      ]
     },
     "execution_count": 15,
     "metadata": {},
     "output_type": "execute_result"
    },
    {
     "data": {
      "image/png": "[encoded data removed]",
      "text/plain": [
       "<Figure size 432x288 with 1 Axes>"
      ]
     },
     "metadata": {},
     "output_type": "display_data"
    }
   ],
   "source": [
    "ff.plot()"
   ]
  },
  {
   "cell_type": "markdown",
   "metadata": {},
   "source": [
    "This is an example of bad practice for data visualization. Why? It uses line graphs to plot two different scales of data on a *single* axis. Moreoer, it might confuse/disguise you that the **rf** is essentially the same or flat during the time period. However, it is not, it is **six times larger** in fact!"
   ]
  },
  {
   "cell_type": "markdown",
   "metadata": {},
   "source": [
    "\n",
    "\n",
    "### Time series vs Cross sectional"
   ]
  },
  {
   "cell_type": "markdown",
   "metadata": {},
   "source": [
    "A **time series** is a series of data points indexed (or listed or graphed) in time order. Most commonly, a time series is a sequence taken at successive equally spaced points in time. The data typically has 3 things in common:\n",
    "\n",
    "* Arrival is almost always recorded as a new entry\n",
    "* The data typically arrives in time order\n",
    "* Time is a primary axis (time-intervals can be either regular or irregular)\n",
    "\n",
    "As we'll see later, time series are very frequently plotted via line charts. A typical example of time series data is as follow. "
   ]
  },
  {
   "cell_type": "code",
   "execution_count": 4,
   "metadata": {},
   "outputs": [
    {
     "name": "stdout",
     "output_type": "stream",
     "text": [
      "          gdp      pce\n",
      "2003  13271.1   8867.6\n",
      "2004  13773.5   9208.2\n",
      "2005  14234.2   9531.8\n",
      "2006  14613.8   9821.7\n",
      "2007  14873.7  10041.6\n",
      "2008  14830.4  10007.2\n",
      "2009  14418.7   9847.0\n",
      "2010  14783.8  10036.3\n",
      "2011  15020.6  10263.5\n",
      "2012  15369.2  10449.7\n",
      "2013  15710.3  10699.7\n"
     ]
    }
   ],
   "source": [
    "gdp  = [13271.1, 13773.5, 14234.2, 14613.8, 14873.7, 14830.4, 14418.7,\n",
    "        14783.8, 15020.6, 15369.2, 15710.3]\n",
    "pce  = [8867.6, 9208.2, 9531.8, 9821.7, 10041.6, 10007.2, 9847.0, 10036.3,\n",
    "        10263.5, 10449.7, 10699.7]\n",
    "year = list(range(2003,2014))        # use range for years 2003-2013\n",
    "\n",
    "# Note that we set the index\n",
    "us = pd.DataFrame({'gdp': gdp, 'pce': pce}, index=year)\n",
    "print(us)"
   ]
  },
  {
   "cell_type": "markdown",
   "metadata": {},
   "source": [
    "While **cross sectional** data is observations that come from different individuals or groups at a single point in time. There it differs from time series data, which the objects are observations varying in time but from a single individuals or groups.\n",
    "\n",
    "A typical example of cross sectional data is as follow. We will usually use bars graphs to show the relationships among different groups."
   ]
  },
  {
   "cell_type": "code",
   "execution_count": 6,
   "metadata": {},
   "outputs": [
    {
     "name": "stdout",
     "output_type": "stream",
     "text": [
      "           country  gdppc\n",
      "USA  United States   53.1\n",
      "FRA         France   36.9\n",
      "JPN          Japan   36.3\n",
      "CHN          China   11.9\n",
      "IND          India    5.4\n",
      "BRA         Brazil   15.0\n",
      "MEX         Mexico   16.5\n"
     ]
    }
   ],
   "source": [
    "code    = ['USA', 'FRA', 'JPN', 'CHN', 'IND', 'BRA', 'MEX']\n",
    "country = ['United States', 'France', 'Japan', 'China', 'India',\n",
    "             'Brazil', 'Mexico']\n",
    "gdppc   = [53.1, 36.9, 36.3, 11.9, 5.4, 15.0, 16.5]\n",
    "\n",
    "wbdf = pd.DataFrame({'gdppc': gdppc, 'country': country}, index=code)\n",
    "\n",
    "print(wbdf)"
   ]
  },
  {
   "cell_type": "markdown",
   "metadata": {},
   "source": [
    "### Univariate and Multivariate analysis "
   ]
  },
  {
   "cell_type": "markdown",
   "metadata": {},
   "source": [
    "**Univariate analysis** is the simplest form of data analysis where the data being analyzed contains only one variable. Since it's a single variable, it doesn’t deal with causes or relationships. We can usually get some insights regarding the statistic features of the data, such as empirical distributions, mean, and skewness, etc. The major purpose univariate bivariate analysis is to explain.\n",
    "\n",
    "In practice, we usually perform univariate analysis as a stepping stone for futher analysis.\n"
   ]
  },
  {
   "cell_type": "markdown",
   "metadata": {},
   "source": [
    "**Multivariate analysis** deals with more than one variables. It deals with causes or relationships. The major purpose multivariate bivariate analysis is to explain.\n",
    "\n",
    "There are many ways to play with mltivariates depending on your goals.  "
   ]
  },
  {
   "cell_type": "markdown",
   "metadata": {},
   "source": [
    "---\n",
    "## Matplotlib "
   ]
  },
  {
   "cell_type": "markdown",
   "metadata": {},
   "source": [
    "Python's leading graphics package is **Matplotlib**, which is designed for creating publication-quality plots.\n",
    "\n",
    "Matplotlib can be used in a number of different ways:\n",
    "\n",
    "* Approach #1:  Apply plot methods to dataframes.\n",
    "* Approach #2:  Create figure objects and apply methods to them.\n",
    "\n",
    "They call on similar functionality, but use different syntax to get it.\n",
    "\n"
   ]
  },
  {
   "cell_type": "markdown",
   "metadata": {},
   "source": [
    "####  Approach #1:  Apply plot methods to dataframes\n"
   ]
  },
  {
   "cell_type": "markdown",
   "metadata": {},
   "source": [
    "The simplest way to produce graphics from a dataframe is to apply a plot method to it.  Simple is good, we do this a lot.\n",
    "\n",
    "If we compare this to Excel, we will see that a number of things are preset for us:\n",
    "\n",
    "* Data.  By default (meaning, if we don't do anything to change it) the data consists of the whole dataframe.\n",
    "* Chart type.  We'll see below that we have options for lines, bars, or other things.\n",
    "* `x` and `y` variables.  By default, the `x` variable is the dataframe's index and the `y` variables are the columns of the dataframe -- all of them that can be plotted (e.g. columns with a numeric dtype).\n",
    "\n",
    "We can change all of these things, just as we can in Excel, but that's the starting point."
   ]
  },
  {
   "cell_type": "markdown",
   "metadata": {},
   "source": [
    "**Example (line plot).**  Enter the statement `us.plot()` into a code cell and run it.  This plots every column of the dataframe `us` as a line against the index, the year of the observation.  The lines have different colors.  We didn't ask for this, it's built in.  A legend associates each variable name with a line color.  This is also built in.\n"
   ]
  },
  {
   "cell_type": "code",
   "execution_count": 12,
   "metadata": {},
   "outputs": [
    {
     "data": {
      "text/plain": [
       "<matplotlib.axes._subplots.AxesSubplot at 0x11829ba20>"
      ]
     },
     "execution_count": 12,
     "metadata": {},
     "output_type": "execute_result"
    },
    {
     "data": {
      "image/png": "[encoded data removed]",
      "text/plain": [
       "<Figure size 432x288 with 1 Axes>"
      ]
     },
     "metadata": {},
     "output_type": "display_data"
    }
   ],
   "source": [
    "us.plot()"
   ]
  },
  {
   "cell_type": "markdown",
   "metadata": {},
   "source": [
    "**Example (single line plot).**  We just plotted all the variables -- all two of them -- in the dataframe `us`.  To plot one line, we apply the same method to a single variable -- a series.  The statement `us['gdp'].plot()` plots GDP alone.  The first part -- `us['gdp']` -- is the single variable GDP.  The second part -- `.plot()` -- plots it.\n"
   ]
  },
  {
   "cell_type": "markdown",
   "metadata": {},
   "source": [
    "**Example (single line plot 2)**. In addition to getting a series from our dataframe and then plotting the series, we could also set the `y` argument when we call the plot method. The statement `us.plot(y=\"gdp\")` will produce the same plot as `us['gdp'].plot()`.\n"
   ]
  },
  {
   "cell_type": "markdown",
   "metadata": {},
   "source": [
    "#### Approach #2:  Create figure objects and apply methods\n"
   ]
  },
  {
   "cell_type": "markdown",
   "metadata": {},
   "source": [
    "This approach was mysterious to us at first, but it's now our favorite. The idea is to generate an object -- two objects, in fact -- and apply methods to them to produce the various elements of a graph: the data, their axes, their labels, and so on.\n",
    "\n",
    "\n",
    "\n",
    "We do this -- as usual -- one step at a time."
   ]
  },
  {
   "cell_type": "markdown",
   "metadata": {},
   "source": [
    "**Create objects.** The **`fig`** represent the canvas object while **`ax`** is as the object for charging the details, e.g., type of graphs, colors and axis, etc, in each graph on the canvas.\n",
    "\n",
    "\n",
    "We'll see this ONE line over and over:\n"
   ]
  },
  {
   "cell_type": "code",
   "execution_count": 7,
   "metadata": {},
   "outputs": [
    {
     "data": {
      "image/png": "[encoded data removed]",
      "text/plain": [
       "<Figure size 432x288 with 1 Axes>"
      ]
     },
     "metadata": {},
     "output_type": "display_data"
    }
   ],
   "source": [
    "fig, ax = plt.subplots()         # create fig and ax objects"
   ]
  },
  {
   "cell_type": "markdown",
   "metadata": {},
   "source": [
    "Note that we're using the pyplot function `subplots()`, which creates the objects `fig` and `ax` on the left.   The `subplot()` function produces a blank figure, which is displayed in the Jupyter notebook.  The names `fig` and `ax` can be anything, but these choices are standard.\n",
    "\n",
    "We say `fig` is a **figure object** and `ax` is an **axis object**.  (Try `type(fig)` and `type(ax)` to see why.)  Once more, the words don't mean what we might think they mean:\n",
    "\n",
    "* `fig` is a blank canvas for creating a figure.\n",
    "* `ax` is everything in it:  axes, labels, lines or bars, legend, and so on.\n",
    "\n",
    "Once we have the objects, we apply methods to them to create graphs."
   ]
  },
  {
   "cell_type": "markdown",
   "metadata": {},
   "source": [
    "**Create graphs.**  We create graphs by applying plot-like methods to `ax`.  We typically do this with dataframe plot methods:\n"
   ]
  },
  {
   "cell_type": "code",
   "execution_count": 8,
   "metadata": {},
   "outputs": [
    {
     "data": {
      "text/plain": [
       "<matplotlib.axes._subplots.AxesSubplot at 0x114afc780>"
      ]
     },
     "execution_count": 8,
     "metadata": {},
     "output_type": "execute_result"
    },
    {
     "data": {
      "image/png": "[encoded data removed]",
      "text/plain": [
       "<Figure size 432x288 with 1 Axes>"
      ]
     },
     "metadata": {},
     "output_type": "display_data"
    }
   ],
   "source": [
    "fig, axe = plt.subplots()        # create axis object axe\n",
    "us.plot(ax=axe)                  # ax= looks for axis object, axe is it"
   ]
  },
  {
   "cell_type": "code",
   "execution_count": 11,
   "metadata": {},
   "outputs": [
    {
     "data": {
      "text/plain": [
       "<matplotlib.axes._subplots.AxesSubplot at 0x118220278>"
      ]
     },
     "execution_count": 11,
     "metadata": {},
     "output_type": "execute_result"
    },
    {
     "data": {
      "image/png": "[encoded data removed]",
      "text/plain": [
       "<Figure size 432x288 with 1 Axes>"
      ]
     },
     "metadata": {},
     "output_type": "display_data"
    }
   ],
   "source": [
    "fig, ax = plt.subplots()\n",
    "ff.plot(ax=ax,\n",
    "        kind='line',                 # line plot\n",
    "        color=['blue', 'magenta'],   # line color\n",
    "        title='Fama-French market and riskfree returns')"
   ]
  },
  {
   "cell_type": "markdown",
   "metadata": {},
   "source": [
    "---\n",
    "### Time to practice"
   ]
  },
  {
   "cell_type": "markdown",
   "metadata": {},
   "source": [
    "**Exercise.**  Let's see if we can teach ourselves the rest:\n",
    "\n",
    "* Add the argument `kind='bar'` to convert this into a bar chart.\n",
    "* Add the argument `alpha=0.65` to the bar chart.  What does it do?\n",
    "* What would you change in the bar chart to make it look better?  Use the help facility to find options that might help.  Which ones appeal to you?\n",
    "\n"
   ]
  },
  {
   "cell_type": "markdown",
   "metadata": {},
   "source": [
    "**Exercise (somewhat challenging).** Use the same approach to reproduce our earlier histograms of the Fama-French series.\n"
   ]
  },
  {
   "cell_type": "markdown",
   "metadata": {},
   "source": [
    "---\n",
    "## Bells & Whistles"
   ]
  },
  {
   "cell_type": "markdown",
   "metadata": {},
   "source": [
    "We now know how to create graphs, but if we're honest with ourselves we'd admit they're a little basic. Fortunately, we just got started. We have a huge number of methods available for changing our plots in any way we wish for the purpose of production-grade plots: Choose the most suitable type of for data, Add titles and axis labels （and legend） - **the indispensable components of a chart**, change axis limits, and many other things that haven't crossed our minds yet. \n",
    "\n",
    "\n",
    "\n",
    "Here's a short introduction in terms of types of charts and options within this package.\n"
   ]
  },
  {
   "cell_type": "markdown",
   "metadata": {},
   "source": [
    "### Graph Types"
   ]
  },
  {
   "cell_type": "markdown",
   "metadata": {},
   "source": [
    "It is always a difficult problem to choose the suitable when visualizing data. But it is even worse that we do not know how many different types of the charts the `matplotlib` can do. So now let's explore this a little bit and build our knowledge piece by piece.\n",
    "\n",
    "In addition, we still do not know how to add the titles, axis lables and other features to the graph now. It is okay because we will learn that in a minute!"
   ]
  },
  {
   "cell_type": "markdown",
   "metadata": {},
   "source": [
    "#### Line Charts\n",
    "\n",
    "For the line charts, it is almost a review of the eariler session, it is the most fundamental ones. \n",
    "\n",
    "It is most suitable for analyzing the time trends in our dataset. It is usually not a great tool for cross sectional data."
   ]
  },
  {
   "cell_type": "code",
   "execution_count": 37,
   "metadata": {},
   "outputs": [
    {
     "data": {
      "text/plain": [
       "<matplotlib.axes._subplots.AxesSubplot at 0x119051668>"
      ]
     },
     "execution_count": 37,
     "metadata": {},
     "output_type": "execute_result"
    },
    {
     "data": {
      "image/png": "[encoded data removed]",
      "text/plain": [
       "<Figure size 432x288 with 1 Axes>"
      ]
     },
     "metadata": {},
     "output_type": "display_data"
    }
   ],
   "source": [
    "fig, axe = plt.subplots()        # create axis object axe\n",
    "us.plot(ax=axe)                  # ax= looks for axis object, axe is it"
   ]
  },
  {
   "cell_type": "markdown",
   "metadata": {},
   "source": [
    "#### Bar Charts\n",
    "\n",
    "Again, we usually see this a lot. \n",
    "\n",
    "It is most suitable for comparing feature values of each observation in our cross sectional data. It is usually not a great tool for time series analysis."
   ]
  },
  {
   "cell_type": "code",
   "execution_count": 38,
   "metadata": {},
   "outputs": [
    {
     "data": {
      "text/plain": [
       "<matplotlib.axes._subplots.AxesSubplot at 0x118b63320>"
      ]
     },
     "execution_count": 38,
     "metadata": {},
     "output_type": "execute_result"
    },
    {
     "data": {
      "image/png": "[encoded data removed]",
      "text/plain": [
       "<Figure size 432x288 with 1 Axes>"
      ]
     },
     "metadata": {},
     "output_type": "display_data"
    }
   ],
   "source": [
    "fig, axe = plt.subplots()        # create axis object axe\n",
    "wbdf.plot.bar(ax=axe)           # ax= looks for axis object, axe is it"
   ]
  },
  {
   "cell_type": "markdown",
   "metadata": {},
   "source": [
    "We can also easily convert the bars horizontally, namely via `barh` function."
   ]
  },
  {
   "cell_type": "code",
   "execution_count": 40,
   "metadata": {},
   "outputs": [
    {
     "data": {
      "text/plain": [
       "<matplotlib.axes._subplots.AxesSubplot at 0x118bec198>"
      ]
     },
     "execution_count": 40,
     "metadata": {},
     "output_type": "execute_result"
    },
    {
     "data": {
      "image/png": "[encoded data removed]",
      "text/plain": [
       "<Figure size 432x288 with 1 Axes>"
      ]
     },
     "metadata": {},
     "output_type": "display_data"
    }
   ],
   "source": [
    "fig, axe = plt.subplots()        # create axis object axe\n",
    "wbdf.plot.barh(ax=axe)           # ax= looks for axis object, axe is it"
   ]
  },
  {
   "cell_type": "markdown",
   "metadata": {},
   "source": [
    "Next we are going to learn graphs for describing the **distributions** of the variates.\n"
   ]
  },
  {
   "cell_type": "markdown",
   "metadata": {},
   "source": [
    "#### Histgrams \n",
    "\n",
    "\n",
    "Sometimes, we want to know the empirical distributions of a univariate. For example, when analyzing the income inequality of a country, we'll sometimes start with plotting the distributions of income. So that we can sense how far the left tail is and where is the mean/median. This is where the **histgrams** kick in.\n",
    "\n",
    "This graph seems mysteries at first since it requires a little bit calculations but with a short introduction, you will find it easy to understand and master. \n",
    "\n",
    "\n",
    "There always two steps for constructing the histgrams manually:\n",
    "\n",
    "* Deciding how many bins you want to have. This will be our x-axis after some computations.\n",
    "\n",
    "* Then we can know in each bin,  we can compute how many data points are within a range. This is our y-axis.\n",
    "\n",
    "So now we know that the most important parameters for a bin graph is **bins** in `matplotlib` hist function, it controls how many bins we want to have and thus the frequency of observations in each bin.\n",
    "\n",
    "In the end, we have the following example to further illustrate the idea.\n",
    "\n"
   ]
  },
  {
   "cell_type": "code",
   "execution_count": 35,
   "metadata": {},
   "outputs": [
    {
     "data": {
      "text/plain": [
       "<matplotlib.axes._subplots.AxesSubplot at 0x118eee128>"
      ]
     },
     "execution_count": 35,
     "metadata": {},
     "output_type": "execute_result"
    },
    {
     "data": {
      "image/png": "[encoded data removed]",
      "text/plain": [
       "<Figure size 432x288 with 1 Axes>"
      ]
     },
     "metadata": {},
     "output_type": "display_data"
    }
   ],
   "source": [
    "fig, axe = plt.subplots()        # create axis object axe\n",
    "us.plot.hist(ax=axe)           # ax= looks for axis object, axe is it"
   ]
  },
  {
   "cell_type": "markdown",
   "metadata": {},
   "source": [
    "We could see from the histograms that the two columns have relatively different distributions with pce centered around **10000** while gdp at **14500**. Besides, the gdp data have a a little bit right skewness. \n",
    "\n",
    "As we all know, the bins are decided by the ranges of the data. Let's how will it change when we motify the number of bins."
   ]
  },
  {
   "cell_type": "markdown",
   "metadata": {},
   "source": [
    "Too little bins..."
   ]
  },
  {
   "cell_type": "code",
   "execution_count": 41,
   "metadata": {},
   "outputs": [
    {
     "data": {
      "text/plain": [
       "<matplotlib.axes._subplots.AxesSubplot at 0x113f95978>"
      ]
     },
     "execution_count": 41,
     "metadata": {},
     "output_type": "execute_result"
    },
    {
     "data": {
      "image/png": "[encoded data removed]",
      "text/plain": [
       "<Figure size 432x288 with 1 Axes>"
      ]
     },
     "metadata": {},
     "output_type": "display_data"
    }
   ],
   "source": [
    "fig, axe = plt.subplots()        # create axis object axe\n",
    "us.plot.hist(ax=axe,bins=3)           # ax= looks for axis object, axe is it"
   ]
  },
  {
   "cell_type": "markdown",
   "metadata": {},
   "source": [
    "Too many bins ..."
   ]
  },
  {
   "cell_type": "code",
   "execution_count": 44,
   "metadata": {},
   "outputs": [
    {
     "data": {
      "text/plain": [
       "<matplotlib.axes._subplots.AxesSubplot at 0x11ee8ed30>"
      ]
     },
     "execution_count": 44,
     "metadata": {},
     "output_type": "execute_result"
    },
    {
     "data": {
      "image/png": "[encoded data removed]",
      "text/plain": [
       "<Figure size 432x288 with 1 Axes>"
      ]
     },
     "metadata": {},
     "output_type": "display_data"
    }
   ],
   "source": [
    "fig, axe = plt.subplots()        # create axis object axe\n",
    "us.plot.hist(ax=axe,bins=20)           # ax= looks for axis object, axe is it"
   ]
  },
  {
   "cell_type": "markdown",
   "metadata": {},
   "source": [
    "#### Scatter\n",
    "It is a way of show the multivariates' relationships or distributions in the data. \n",
    "\n",
    "In the following example, we almost see a linear relationship between the two variates. "
   ]
  },
  {
   "cell_type": "code",
   "execution_count": 45,
   "metadata": {},
   "outputs": [
    {
     "data": {
      "text/plain": [
       "<matplotlib.collections.PathCollection at 0x12a45b0b8>"
      ]
     },
     "execution_count": 45,
     "metadata": {},
     "output_type": "execute_result"
    },
    {
     "data": {
      "image/png": "[encoded data removed]",
      "text/plain": [
       "<Figure size 432x288 with 1 Axes>"
      ]
     },
     "metadata": {},
     "output_type": "display_data"
    }
   ],
   "source": [
    "fig, axe = plt.subplots()        # create axis object axe\n",
    "axe.scatter(x=us['gdp'],y=us['pce']) \n"
   ]
  },
  {
   "cell_type": "markdown",
   "metadata": {},
   "source": [
    "#### Advanced Scatter Charts\n",
    "\n",
    "Now as seeing the relationship, we are eager to see if we can do curve fiting on it? Yes... But we have to do it manually.\n"
   ]
  },
  {
   "cell_type": "code",
   "execution_count": 48,
   "metadata": {},
   "outputs": [
    {
     "data": {
      "text/plain": [
       "[<matplotlib.lines.Line2D at 0x14013f8d0>]"
      ]
     },
     "execution_count": 48,
     "metadata": {},
     "output_type": "execute_result"
    },
    {
     "data": {
      "image/png": "[encoded data removed]",
      "text/plain": [
       "<Figure size 432x288 with 1 Axes>"
      ]
     },
     "metadata": {},
     "output_type": "display_data"
    }
   ],
   "source": [
    "# first we import a polyfit function from numpy\n",
    "from numpy.polynomial.polynomial import polyfit\n",
    "x=us['gdp']\n",
    "y=us['pce']\n",
    "\n",
    "# we poly fit the data\n",
    "b, m = polyfit(x, y, 1)\n",
    "\n",
    "# Plot both the fitting results and the original data\n",
    "fig, axe = plt.subplots()        # create axis object axe\n",
    "axe.scatter(x,y) \n",
    "axe.plot(x, b+ m*x,'r')"
   ]
  },
  {
   "cell_type": "markdown",
   "metadata": {},
   "source": [
    "#### Pie\n",
    "\n",
    "This type of chart can often be used to show the composition of something. Here we will again use the `wbdf` dataset and present a composition of the world GDP. In additiona, we can compare each country's contributions more directly and intuitively.\n",
    "\n"
   ]
  },
  {
   "cell_type": "code",
   "execution_count": 33,
   "metadata": {},
   "outputs": [
    {
     "data": {
      "text/plain": [
       "([<matplotlib.patches.Wedge at 0x118ddc828>,\n",
       "  <matplotlib.patches.Wedge at 0x118ddcd30>,\n",
       "  <matplotlib.patches.Wedge at 0x118e43278>,\n",
       "  <matplotlib.patches.Wedge at 0x118e437b8>,\n",
       "  <matplotlib.patches.Wedge at 0x118e43cf8>,\n",
       "  <matplotlib.patches.Wedge at 0x118e48278>,\n",
       "  <matplotlib.patches.Wedge at 0x118e487b8>],\n",
       " [Text(0.637429,0.896484,'United States'),\n",
       "  Text(-0.923629,0.597419,'France'),\n",
       "  Text(-0.81291,-0.741065,'Japan'),\n",
       "  Text(0.0365048,-1.09939,'China'),\n",
       "  Text(0.37055,-1.03571,'India'),\n",
       "  Text(0.716679,-0.834489,'Brazil'),\n",
       "  Text(1.05215,-0.320906,'Mexico')])"
      ]
     },
     "execution_count": 33,
     "metadata": {},
     "output_type": "execute_result"
    },
    {
     "data": {
      "image/png": "[encoded data removed]",
      "text/plain": [
       "<Figure size 432x288 with 1 Axes>"
      ]
     },
     "metadata": {},
     "output_type": "display_data"
    }
   ],
   "source": [
    "fig, axe = plt.subplots()        # create axis object axe\n",
    "axe.pie(x=wbdf['gdppc'],labels=wbdf['country'])           # ax= looks for axis object, axe is it"
   ]
  },
  {
   "cell_type": "markdown",
   "metadata": {},
   "source": [
    "#### Area Charts\n",
    "\n",
    "An area chart is basically a line chart, but the space between the x-axis and the line is filled with a color or pattern. It is useful for showing part-to-whole relations. It helps you analyze both overall and individual trend information.\n",
    "\n",
    "**Note** better example needed. Tinghao Will fix this. This data cannot show the usefulness of the area graph."
   ]
  },
  {
   "cell_type": "code",
   "execution_count": 50,
   "metadata": {},
   "outputs": [
    {
     "data": {
      "text/plain": [
       "<matplotlib.axes._subplots.AxesSubplot at 0x140121278>"
      ]
     },
     "execution_count": 50,
     "metadata": {},
     "output_type": "execute_result"
    },
    {
     "data": {
      "image/png": "[encoded data removed]",
      "text/plain": [
       "<Figure size 432x288 with 1 Axes>"
      ]
     },
     "metadata": {},
     "output_type": "display_data"
    }
   ],
   "source": [
    "fig, axe = plt.subplots()        # create axis object axe\n",
    "us.plot.area(ax=axe)            # ax= looks for axis object, axe is it"
   ]
  },
  {
   "cell_type": "markdown",
   "metadata": {},
   "source": [
    "#### Heat Maps (Not sure to add)\n"
   ]
  },
  {
   "cell_type": "code",
   "execution_count": null,
   "metadata": {},
   "outputs": [],
   "source": []
  },
  {
   "cell_type": "markdown",
   "metadata": {},
   "source": [
    "### Graph Options"
   ]
  },
  {
   "cell_type": "markdown",
   "metadata": {},
   "source": [
    "#### Basic Functionalities\n",
    "\n",
    "A copule of basic elements that we **ALWAYS NEED**: (i) a title; (ii) well labeled x and y axis; (iii) sometimes legends. Note that the well labeled should mean a couple of things, what it is and what units they are in. Now the code below does this using the methods associated with our axes object `ax.` \n",
    "\n",
    "\n",
    "Here we will use the scatter plot as examples. The options we learned here applies to other graphs as well.\n",
    "\n",
    "So let's figure out the following questions now:\n",
    "\n",
    "* How to set axis labels?\n",
    "* How to set titles?\n",
    "* How to set the legends?\n"
   ]
  },
  {
   "cell_type": "markdown",
   "metadata": {},
   "source": [
    "**Getting ready for the data...**"
   ]
  },
  {
   "cell_type": "code",
   "execution_count": 53,
   "metadata": {},
   "outputs": [
    {
     "data": {
      "text/html": [
       "<div>\n",
       "<style scoped>\n",
       "    .dataframe tbody tr th:only-of-type {\n",
       "        vertical-align: middle;\n",
       "    }\n",
       "\n",
       "    .dataframe tbody tr th {\n",
       "        vertical-align: top;\n",
       "    }\n",
       "\n",
       "    .dataframe thead th {\n",
       "        text-align: right;\n",
       "    }\n",
       "</style>\n",
       "<table border=\"1\" class=\"dataframe\">\n",
       "  <thead>\n",
       "    <tr style=\"text-align: right;\">\n",
       "      <th></th>\n",
       "      <th>gdp</th>\n",
       "      <th>cons</th>\n",
       "      <th>invs</th>\n",
       "      <th>gov</th>\n",
       "      <th>exp</th>\n",
       "      <th>imp</th>\n",
       "    </tr>\n",
       "    <tr>\n",
       "      <th>DATE</th>\n",
       "      <th></th>\n",
       "      <th></th>\n",
       "      <th></th>\n",
       "      <th></th>\n",
       "      <th></th>\n",
       "      <th></th>\n",
       "    </tr>\n",
       "  </thead>\n",
       "  <tbody>\n",
       "    <tr>\n",
       "      <th>2000-01-01</th>\n",
       "      <td>12924.179</td>\n",
       "      <td>8520.710</td>\n",
       "      <td>2257.109</td>\n",
       "      <td>2645.393</td>\n",
       "      <td>1337.203</td>\n",
       "      <td>1853.884</td>\n",
       "    </tr>\n",
       "    <tr>\n",
       "      <th>2000-04-01</th>\n",
       "      <td>13160.842</td>\n",
       "      <td>8603.007</td>\n",
       "      <td>2390.733</td>\n",
       "      <td>2671.254</td>\n",
       "      <td>1375.203</td>\n",
       "      <td>1911.437</td>\n",
       "    </tr>\n",
       "    <tr>\n",
       "      <th>2000-07-01</th>\n",
       "      <td>13178.419</td>\n",
       "      <td>8687.485</td>\n",
       "      <td>2367.274</td>\n",
       "      <td>2659.687</td>\n",
       "      <td>1408.783</td>\n",
       "      <td>1978.137</td>\n",
       "    </tr>\n",
       "    <tr>\n",
       "      <th>2000-10-01</th>\n",
       "      <td>13260.506</td>\n",
       "      <td>8762.205</td>\n",
       "      <td>2371.809</td>\n",
       "      <td>2675.695</td>\n",
       "      <td>1396.844</td>\n",
       "      <td>1977.750</td>\n",
       "    </tr>\n",
       "    <tr>\n",
       "      <th>2001-01-01</th>\n",
       "      <td>13222.690</td>\n",
       "      <td>8797.280</td>\n",
       "      <td>2264.202</td>\n",
       "      <td>2716.773</td>\n",
       "      <td>1376.171</td>\n",
       "      <td>1946.136</td>\n",
       "    </tr>\n",
       "  </tbody>\n",
       "</table>\n",
       "</div>"
      ],
      "text/plain": [
       "                  gdp      cons      invs       gov       exp       imp\n",
       "DATE                                                                   \n",
       "2000-01-01  12924.179  8520.710  2257.109  2645.393  1337.203  1853.884\n",
       "2000-04-01  13160.842  8603.007  2390.733  2671.254  1375.203  1911.437\n",
       "2000-07-01  13178.419  8687.485  2367.274  2659.687  1408.783  1978.137\n",
       "2000-10-01  13260.506  8762.205  2371.809  2675.695  1396.844  1977.750\n",
       "2001-01-01  13222.690  8797.280  2264.202  2716.773  1376.171  1946.136"
      ]
     },
     "execution_count": 53,
     "metadata": {},
     "output_type": "execute_result"
    }
   ],
   "source": [
    "start = dt.datetime(2000,1,1) # Our start date\n",
    "\n",
    "codes = [\"GDPC1\", \"PCECC96\", \"GPDIC1\", \"GCEC1\",\"EXPGSC1\",\"IMPGSC1\"] # Our codes\n",
    "\n",
    "usdata = data.DataReader(codes, \"fred\", start)                 # Read  in the data\n",
    "\n",
    "usdata.columns = [\"gdp\", \"cons\",\"invs\", \"gov\", \"exp\", \"imp\"]   # Rename the columns in a simple way\n",
    "\n",
    "usdata.head() # Look at it"
   ]
  },
  {
   "cell_type": "markdown",
   "metadata": {},
   "source": [
    "**A little more computations...**"
   ]
  },
  {
   "cell_type": "code",
   "execution_count": 54,
   "metadata": {},
   "outputs": [
    {
     "data": {
      "text/html": [
       "<div>\n",
       "<style scoped>\n",
       "    .dataframe tbody tr th:only-of-type {\n",
       "        vertical-align: middle;\n",
       "    }\n",
       "\n",
       "    .dataframe tbody tr th {\n",
       "        vertical-align: top;\n",
       "    }\n",
       "\n",
       "    .dataframe thead th {\n",
       "        text-align: right;\n",
       "    }\n",
       "</style>\n",
       "<table border=\"1\" class=\"dataframe\">\n",
       "  <thead>\n",
       "    <tr style=\"text-align: right;\">\n",
       "      <th></th>\n",
       "      <th>gdp</th>\n",
       "      <th>cons</th>\n",
       "      <th>invs</th>\n",
       "      <th>gov</th>\n",
       "      <th>exp</th>\n",
       "      <th>imp</th>\n",
       "      <th>gdp_growth</th>\n",
       "      <th>cons_growth</th>\n",
       "    </tr>\n",
       "    <tr>\n",
       "      <th>DATE</th>\n",
       "      <th></th>\n",
       "      <th></th>\n",
       "      <th></th>\n",
       "      <th></th>\n",
       "      <th></th>\n",
       "      <th></th>\n",
       "      <th></th>\n",
       "      <th></th>\n",
       "    </tr>\n",
       "  </thead>\n",
       "  <tbody>\n",
       "    <tr>\n",
       "      <th>2000-01-01</th>\n",
       "      <td>12924.179</td>\n",
       "      <td>8520.710</td>\n",
       "      <td>2257.109</td>\n",
       "      <td>2645.393</td>\n",
       "      <td>1337.203</td>\n",
       "      <td>1853.884</td>\n",
       "      <td>NaN</td>\n",
       "      <td>NaN</td>\n",
       "    </tr>\n",
       "    <tr>\n",
       "      <th>2000-04-01</th>\n",
       "      <td>13160.842</td>\n",
       "      <td>8603.007</td>\n",
       "      <td>2390.733</td>\n",
       "      <td>2671.254</td>\n",
       "      <td>1375.203</td>\n",
       "      <td>1911.437</td>\n",
       "      <td>7.324659</td>\n",
       "      <td>3.863387</td>\n",
       "    </tr>\n",
       "    <tr>\n",
       "      <th>2000-07-01</th>\n",
       "      <td>13178.419</td>\n",
       "      <td>8687.485</td>\n",
       "      <td>2367.274</td>\n",
       "      <td>2659.687</td>\n",
       "      <td>1408.783</td>\n",
       "      <td>1978.137</td>\n",
       "      <td>0.534221</td>\n",
       "      <td>3.927836</td>\n",
       "    </tr>\n",
       "    <tr>\n",
       "      <th>2000-10-01</th>\n",
       "      <td>13260.506</td>\n",
       "      <td>8762.205</td>\n",
       "      <td>2371.809</td>\n",
       "      <td>2675.695</td>\n",
       "      <td>1396.844</td>\n",
       "      <td>1977.750</td>\n",
       "      <td>2.491558</td>\n",
       "      <td>3.440351</td>\n",
       "    </tr>\n",
       "    <tr>\n",
       "      <th>2001-01-01</th>\n",
       "      <td>13222.690</td>\n",
       "      <td>8797.280</td>\n",
       "      <td>2264.202</td>\n",
       "      <td>2716.773</td>\n",
       "      <td>1376.171</td>\n",
       "      <td>1946.136</td>\n",
       "      <td>-1.140711</td>\n",
       "      <td>1.601195</td>\n",
       "    </tr>\n",
       "  </tbody>\n",
       "</table>\n",
       "</div>"
      ],
      "text/plain": [
       "                  gdp      cons      invs       gov       exp       imp  \\\n",
       "DATE                                                                      \n",
       "2000-01-01  12924.179  8520.710  2257.109  2645.393  1337.203  1853.884   \n",
       "2000-04-01  13160.842  8603.007  2390.733  2671.254  1375.203  1911.437   \n",
       "2000-07-01  13178.419  8687.485  2367.274  2659.687  1408.783  1978.137   \n",
       "2000-10-01  13260.506  8762.205  2371.809  2675.695  1396.844  1977.750   \n",
       "2001-01-01  13222.690  8797.280  2264.202  2716.773  1376.171  1946.136   \n",
       "\n",
       "            gdp_growth  cons_growth  \n",
       "DATE                                 \n",
       "2000-01-01         NaN          NaN  \n",
       "2000-04-01    7.324659     3.863387  \n",
       "2000-07-01    0.534221     3.927836  \n",
       "2000-10-01    2.491558     3.440351  \n",
       "2001-01-01   -1.140711     1.601195  "
      ]
     },
     "execution_count": 54,
     "metadata": {},
     "output_type": "execute_result"
    }
   ],
   "source": [
    "var_list = [\"gdp\", \"cons\"]\n",
    "\n",
    "for var in var_list:\n",
    "    new_name = var + \"_growth\"\n",
    "    usdata[new_name] = 100*4*usdata[var].pct_change()\n",
    "    \n",
    "usdata.head()"
   ]
  },
  {
   "cell_type": "markdown",
   "metadata": {},
   "source": [
    "##### Making it look more formative... Please pay attention to the additional codes\n"
   ]
  },
  {
   "cell_type": "code",
   "execution_count": 55,
   "metadata": {},
   "outputs": [
    {
     "data": {
      "text/plain": [
       "<matplotlib.legend.Legend at 0x14341b7f0>"
      ]
     },
     "execution_count": 55,
     "metadata": {},
     "output_type": "execute_result"
    },
    {
     "data": {
      "image/png": "[encoded data removed]",
      "text/plain": [
       "<Figure size 432x288 with 1 Axes>"
      ]
     },
     "metadata": {},
     "output_type": "display_data"
    }
   ],
   "source": [
    "fig, ax = plt.subplots() # Same deal here...\n",
    "\n",
    "ax.scatter(usdata[\"gdp_growth\"], usdata[\"cons_growth\"],     # x,y variables \n",
    "            alpha= 0.50) # Then this last command specifies how dark or light the bubbles are...\n",
    "\n",
    "##################################################################################\n",
    "\n",
    "ax.set_title('GDP vs. Consumption ', loc='center', fontsize=14, fontweight = \"bold\") \n",
    "# We know this, but note the new option, it specifies the location....\n",
    "\n",
    "ax.set_xlabel(\"GDP Growth (Annulized Rate)\")\n",
    "ax.set_ylabel(\"Consumption Growth (Annualized Rate)\")\n",
    "\n",
    "# Here the legend might not be important, but thinking about what if you \n",
    "# have two countries\n",
    "ax.legend([\"USA data\"],frameon=False) # The legend, without a box...\n",
    "\n"
   ]
  },
  {
   "cell_type": "markdown",
   "metadata": {},
   "source": [
    "Then we learn how to set xlim, ylim, and other handy graph setting details..."
   ]
  },
  {
   "cell_type": "code",
   "execution_count": 59,
   "metadata": {},
   "outputs": [
    {
     "data": {
      "image/png": "[encoded data removed]",
      "text/plain": [
       "<Figure size 432x288 with 1 Axes>"
      ]
     },
     "metadata": {},
     "output_type": "display_data"
    }
   ],
   "source": [
    "fig, ax = plt.subplots() # Same deal here...\n",
    "\n",
    "ax.scatter(usdata[\"gdp_growth\"], usdata[\"cons_growth\"],     # x,y variables \n",
    "            alpha= 0.50,\n",
    "           s=10) # Then this last command specifies how large the bubbles are...\n",
    "                # Here we make it smaller\n",
    "\n",
    "ax.set_title('GDP vs. Consumption ', loc='center', fontsize=14, fontweight = \"bold\") \n",
    "# We know this, but note the new option, it specifies the location....\n",
    "\n",
    "ax.set_xlabel(\"GDP Growth (Annulized Rate)\")\n",
    "ax.set_ylabel(\"Consumption Growth (Annualized Rate)\")\n",
    "\n",
    "# Here the legend might not be important, but thinking about what if you \n",
    "# have two countries\n",
    "ax.legend([\"USA data\"],frameon=True) # The legend, with a box...\n",
    "\n",
    "##################################################################################\n",
    "# This is the new stuff...\n",
    "\n",
    "ax.set_ylim(-10,10) # This sets the y-limits\n",
    "ax.set_xlim(-10,10) # This sets the x-limits\n",
    "\n",
    "ax.spines[\"right\"].set_visible(False) # This removes the ``spines'', just the right and top\n",
    "ax.spines[\"top\"].set_visible(False) # ones...\n",
    "\n",
    "fig.savefig(\"us_gdp_consumption.png\", bbox_inches = \"tight\", dip = 1200)\n"
   ]
  },
  {
   "cell_type": "markdown",
   "metadata": {},
   "source": [
    "#### Advanced Functionalities\n",
    "\n",
    "So far, we have learned the basic options to make your graph look nicer and closer to producation level. Here we will learn several other stuffs as well.\n",
    "\n",
    "* Annotation\n",
    "* Subplots \n",
    "* Styles\n",
    "* Arrows\n",
    "\n",
    "Let's start with Annotation!\n"
   ]
  },
  {
   "cell_type": "markdown",
   "metadata": {},
   "source": [
    "**Annotation**"
   ]
  },
  {
   "cell_type": "code",
   "execution_count": 63,
   "metadata": {},
   "outputs": [
    {
     "data": {
      "image/png": "[encoded data removed]",
      "text/plain": [
       "<Figure size 432x288 with 1 Axes>"
      ]
     },
     "metadata": {},
     "output_type": "display_data"
    }
   ],
   "source": [
    "# Again, lets make this informative...\n",
    "fig, ax = plt.subplots()\n",
    "ax.scatter(usdata[\"gdp_growth\"], usdata[\"cons_growth\"],     \n",
    "            alpha= 0.50,\n",
    "           s=10) \n",
    "    \n",
    "ax.set_title('GDP vs. Consumption ', loc='center', fontsize=14, fontweight = \"bold\") \n",
    "\n",
    "ax.set_xlabel(\"GDP Growth (Annulized Rate)\")\n",
    "ax.set_ylabel(\"Consumption Growth (Annualized Rate)\")\n",
    "\n",
    "ax.spines[\"right\"].set_visible(False) # This removes the ``spines'', just the right and top\n",
    "ax.spines[\"top\"].set_visible(False) # ones...\n",
    "\n",
    "ax.set_ylim(-10,10) # Make this a box...why, one can then by eye infer the slope...\n",
    "ax.set_xlim(-10,10) # \n",
    "\n",
    "############################################################################\n",
    "# This is something new I learned recently\n",
    "\n",
    "ax.annotate(\n",
    "    \"What Year is This?\", \n",
    "    xy=(-8.25, -5), # This is where we point at...\n",
    "    xycoords=\"data\", # Not exactly sure about this\n",
    "    xytext=(0, -9), # This is about where the text is\n",
    "    horizontalalignment=\"left\", # How the text is alined\n",
    "    arrowprops={\n",
    "        \"arrowstyle\": \"-|>\", # This is stuff about the arrow\n",
    "        \"connectionstyle\": \"angle3,angleA=5,angleB=110\",\n",
    "        \"color\": \"black\"\n",
    "    },\n",
    "    fontsize=12,\n",
    ")\n",
    "\n",
    "############################################################################\n",
    "\n",
    "plt.show()"
   ]
  },
  {
   "cell_type": "markdown",
   "metadata": {},
   "source": [
    "**Subplots**\n",
    "\n",
    "This is almost the first time specify something in `plt.subplots` function. The parameters are pretty self-explanatory and we have add comments in code as well if you are not familiar with this. \n"
   ]
  },
  {
   "cell_type": "code",
   "execution_count": 60,
   "metadata": {},
   "outputs": [
    {
     "data": {
      "text/plain": [
       "Text(0.5,1,'Consumption')"
      ]
     },
     "execution_count": 60,
     "metadata": {},
     "output_type": "execute_result"
    },
    {
     "data": {
      "image/png": "[encoded data removed]",
      "text/plain": [
       "<Figure size 864x288 with 2 Axes>"
      ]
     },
     "metadata": {},
     "output_type": "display_data"
    }
   ],
   "source": [
    "fig, ax = plt.subplots(nrows = 1, ncols = 2, sharex = True, figsize = (12,4)) \n",
    "\n",
    "# Same deal as before, but here in the subplots we specified how many. This is given by\n",
    "# the number of rows and columns for which the plots will be...\n",
    "# the sharex command tells it to share the same x-axis, the figsize is awayt to controll\n",
    "# how big/small it looksin the jupyter window\n",
    "\n",
    "# IMPORTANT... now ax is multi-dimensional, so there are two of these, thus when we call \n",
    "# ax[0] this specifies use that axes or modify that one....\n",
    "\n",
    "usdata.gdp_growth.plot(ax = ax[0], color = 'b', linewidth = 3.0) # Same idea, but specify\n",
    "                                                           #that the first axes is for GDP\n",
    "usdata.cons_growth.plot(ax = ax[1], color = 'r', linewidth = 3.0)\n",
    "\n",
    "# Again, note how I'm saying gdp growth is the first axes and consumption growth is the second axes...\n",
    "\n",
    "#######################################################################################\n",
    "\n",
    "# Now liets make it nice looking...add a Title for everything...\n",
    "\n",
    "fig.suptitle(\"GDP and Consumption Growth\", fontsize = 14, fontweight = \"bold\")\n",
    "\n",
    "ax[0].set_title(\"GDP\", fontsize = 10) # This stuff sets the title for each of the subplots...\n",
    "ax[1].set_title(\"Consumption\", fontsize = 10)"
   ]
  },
  {
   "cell_type": "markdown",
   "metadata": {},
   "source": [
    "---\n",
    "## Review Questions\n"
   ]
  },
  {
   "cell_type": "code",
   "execution_count": null,
   "metadata": {},
   "outputs": [],
   "source": []
  },
  {
   "cell_type": "markdown",
   "metadata": {},
   "source": [
    "---\n",
    "## Summary"
   ]
  },
  {
   "cell_type": "markdown",
   "metadata": {},
   "source": []
  },
  {
   "cell_type": "code",
   "execution_count": null,
   "metadata": {},
   "outputs": [],
   "source": []
  },
  {
   "cell_type": "code",
   "execution_count": null,
   "metadata": {},
   "outputs": [],
   "source": []
  }
 ],
 "metadata": {
  "kernelspec": {
   "display_name": "Python 3",
   "language": "python",
   "name": "python3"
  },
  "language_info": {
   "codemirror_mode": {
    "name": "ipython",
    "version": 3
   },
   "file_extension": ".py",
   "mimetype": "text/x-python",
   "name": "python",
   "nbconvert_exporter": "python",
   "pygments_lexer": "ipython3",
   "version": "3.5.5"
  }
 },
 "nbformat": 4,
 "nbformat_minor": 2
}
