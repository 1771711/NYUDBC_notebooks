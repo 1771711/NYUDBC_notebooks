{
 "cells": [
  {
   "cell_type": "markdown",
   "metadata": {},
   "source": [
    "# Intro to Matplotlib\n",
    "\n",
    "\n",
    "####  Review and Outline\n",
    "\n",
    "Great Work! We have made it this far...we know a few important packages in python, e.g., `pandas` and `numpy`, and how to use them to do numeric computings.   \n",
    "\n",
    "Where are we going know...we will get into the shining part for every data report: **data visualization**. Can you imagine an presentation or report regarding data analysis without graphs? Probably not often.\n",
    "\n",
    "We will start with basic concepts and techinical components in graphs. Then I organize the majority of this lecture around the question **How does GDP and it's expenditure componenets co-move?** I'll set it up like a mini-project...we will practice previous skills to downlad and manipulate the data, then we will learn about ploting the data (and doing so in a way to explore how GDP and its expenditure componenets move). \n",
    "\n",
    "\n",
    "[This notebook largely follows the discussion in the Book.](https://nyudatabootcamp.gitbook.io/thebook/graphs1)\n",
    "\n",
    "#### Python\n",
    "\n",
    "In this notebook, we will learn how to (i) generate the `fig` and `ax` of a figure and then (ii) use the methods associated with thoes objects to manipulate the properties of the figure to make it informative and nice looking. \n",
    "\n",
    "**Buzzwords.** Data visualization\n"
   ]
  },
  {
   "cell_type": "code",
   "execution_count": 2,
   "metadata": {},
   "outputs": [],
   "source": [
    "# Loading the packages\n",
    "\n",
    "import pandas as pd                 # Our pandas package\n",
    "\n",
    "# In order to use the pandas_datareader, we have the following lines of code, hard to explain.\n",
    "# New version for pandas. In the past, we used pandasdatareader, but might be not working anymore\n",
    "pd.core.common.is_list_like = pd.api.types.is_list_like\n",
    "\n",
    "from pandas_datareader import data  # This is will give us access to FRED\n",
    "import datetime as dt               # This will get us the datatime package\n",
    "import matplotlib.pyplot as plt     # The new package we are learning about Matplotlib\n",
    "                                    # pyplot is just one module of many in this library\n",
    "\n",
    "%matplotlib inline \n",
    "# This line tells jupyter to plot the graphs within the notebook"
   ]
  },
  {
   "cell_type": "markdown",
   "metadata": {},
   "source": [
    "---\n",
    "## Plotting Concepts"
   ]
  },
  {
   "cell_type": "markdown",
   "metadata": {},
   "source": []
  },
  {
   "cell_type": "code",
   "execution_count": null,
   "metadata": {},
   "outputs": [],
   "source": []
  },
  {
   "cell_type": "code",
   "execution_count": null,
   "metadata": {},
   "outputs": [],
   "source": []
  },
  {
   "cell_type": "code",
   "execution_count": null,
   "metadata": {},
   "outputs": [],
   "source": []
  },
  {
   "cell_type": "markdown",
   "metadata": {},
   "source": [
    "---\n",
    "## Matplotlib Concepts"
   ]
  },
  {
   "cell_type": "markdown",
   "metadata": {},
   "source": []
  },
  {
   "cell_type": "code",
   "execution_count": null,
   "metadata": {},
   "outputs": [],
   "source": []
  },
  {
   "cell_type": "code",
   "execution_count": null,
   "metadata": {},
   "outputs": [],
   "source": []
  },
  {
   "cell_type": "code",
   "execution_count": null,
   "metadata": {},
   "outputs": [],
   "source": []
  },
  {
   "cell_type": "markdown",
   "metadata": {},
   "source": [
    "---\n",
    "## Two Approaches to Graphics in Matplotlib"
   ]
  },
  {
   "cell_type": "markdown",
   "metadata": {},
   "source": [
    "###  Approach #1:  Apply plot methods to dataframes\n"
   ]
  },
  {
   "cell_type": "code",
   "execution_count": null,
   "metadata": {},
   "outputs": [],
   "source": []
  },
  {
   "cell_type": "code",
   "execution_count": null,
   "metadata": {},
   "outputs": [],
   "source": []
  },
  {
   "cell_type": "code",
   "execution_count": null,
   "metadata": {},
   "outputs": [],
   "source": []
  },
  {
   "cell_type": "markdown",
   "metadata": {},
   "source": [
    "### Approach #2:  Create figure objects and apply methods\n"
   ]
  },
  {
   "cell_type": "markdown",
   "metadata": {},
   "source": [
    "---\n",
    "## Bells & Whistles"
   ]
  },
  {
   "cell_type": "markdown",
   "metadata": {},
   "source": []
  },
  {
   "cell_type": "code",
   "execution_count": null,
   "metadata": {},
   "outputs": [],
   "source": []
  },
  {
   "cell_type": "code",
   "execution_count": null,
   "metadata": {},
   "outputs": [],
   "source": []
  },
  {
   "cell_type": "code",
   "execution_count": null,
   "metadata": {},
   "outputs": [],
   "source": []
  },
  {
   "cell_type": "markdown",
   "metadata": {},
   "source": [
    "---\n",
    "## Summary"
   ]
  },
  {
   "cell_type": "markdown",
   "metadata": {},
   "source": []
  },
  {
   "cell_type": "code",
   "execution_count": null,
   "metadata": {},
   "outputs": [],
   "source": []
  },
  {
   "cell_type": "code",
   "execution_count": null,
   "metadata": {},
   "outputs": [],
   "source": []
  }
 ],
 "metadata": {
  "kernelspec": {
   "display_name": "Python 3",
   "language": "python",
   "name": "python3"
  },
  "language_info": {
   "codemirror_mode": {
    "name": "ipython",
    "version": 3
   },
   "file_extension": ".py",
   "mimetype": "text/x-python",
   "name": "python",
   "nbconvert_exporter": "python",
   "pygments_lexer": "ipython3",
   "version": "3.5.5"
  }
 },
 "nbformat": 4,
 "nbformat_minor": 2
}
